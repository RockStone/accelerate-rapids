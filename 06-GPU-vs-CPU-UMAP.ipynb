{
 "cells": [
  {
   "cell_type": "markdown",
   "metadata": {
    "colab_type": "text",
    "id": "A0brNRa_GUuR"
   },
   "source": [
    "# Fashion MNIST RAPIDS UMAP"
   ]
  },
  {
   "cell_type": "code",
   "execution_count": null,
   "metadata": {
    "colab": {},
    "colab_type": "code",
    "id": "NVD9GB_BlWJP"
   },
   "outputs": [],
   "source": [
    "import os\n",
    "import umap\n",
    "import requests\n",
    "import pandas as pd\n",
    "import numpy as np\n",
    "import datashader as ds\n",
    "import datashader.utils as utils\n",
    "import datashader.transfer_functions as tf\n",
    "import matplotlib.pyplot as plt"
   ]
  },
  {
   "cell_type": "markdown",
   "metadata": {
    "colab_type": "text",
    "id": "_Lm8_feVm80v"
   },
   "source": [
    "# GPU"
   ]
  },
  {
   "cell_type": "code",
   "execution_count": null,
   "metadata": {
    "colab": {},
    "colab_type": "code",
    "id": "DXX1w-XSl5uk"
   },
   "outputs": [],
   "source": [
    "if not os.path.isfile('fashion-mnist.csv'):\n",
    "    csv_data = requests.get(\n",
    "        'https://www.openml.org/data/get_csv/18238735/phpnBqZGZ'\n",
    "    )\n",
    "    with open('fashion-mnist.csv', 'w') as f:\n",
    "        f.write(csv_data.text)"
   ]
  },
  {
   "cell_type": "code",
   "execution_count": null,
   "metadata": {
    "colab": {},
    "colab_type": "code",
    "id": "UXnUm_DeUZaU"
   },
   "outputs": [],
   "source": [
    "! head fashion-mnist.csv"
   ]
  },
  {
   "cell_type": "code",
   "execution_count": null,
   "metadata": {
    "colab": {},
    "colab_type": "code",
    "id": "Of_Mnk9HlWo0"
   },
   "outputs": [],
   "source": [
    "import cudf\n",
    "\n",
    "source_df = cudf.read_csv('fashion-mnist.csv')"
   ]
  },
  {
   "cell_type": "code",
   "execution_count": null,
   "metadata": {
    "colab": {},
    "colab_type": "code",
    "id": "KdAWAz1pR1JE"
   },
   "outputs": [],
   "source": [
    "source_df.shape"
   ]
  },
  {
   "cell_type": "code",
   "execution_count": null,
   "metadata": {
    "colab": {},
    "colab_type": "code",
    "id": "iAqpxCW_pS3y"
   },
   "outputs": [],
   "source": [
    "plt.imshow(source_df.iloc[0, :784].to_array().reshape((28,28)), cmap='Greys')"
   ]
  },
  {
   "cell_type": "code",
   "execution_count": null,
   "metadata": {
    "colab": {},
    "colab_type": "code",
    "id": "dFCN70vAlyvp"
   },
   "outputs": [],
   "source": [
    "import cuml\n",
    "\n",
    "data = source_df.loc[:, source_df.columns[:-1]]\n",
    "target = source_df[\"class\"]\n",
    "\n",
    "reducer = cuml.UMAP(\n",
    "    n_neighbors=15,\n",
    "    n_components=2,\n",
    "    n_epochs=500,\n",
    "    min_dist=0.1\n",
    ")"
   ]
  },
  {
   "cell_type": "code",
   "execution_count": null,
   "metadata": {
    "colab": {},
    "colab_type": "code",
    "id": "gya3t1lomDMR"
   },
   "outputs": [],
   "source": [
    "%%time\n",
    "\n",
    "embedding = reducer.fit_transform(data)"
   ]
  },
  {
   "cell_type": "code",
   "execution_count": null,
   "metadata": {
    "colab": {},
    "colab_type": "code",
    "id": "B0zoRIVtr0fc"
   },
   "outputs": [],
   "source": [
    "df = embedding.to_pandas()\n",
    "df.columns = [\"x\", \"y\"]\n",
    "df.describe()"
   ]
  },
  {
   "cell_type": "code",
   "execution_count": null,
   "metadata": {},
   "outputs": [],
   "source": [
    "df['class'] = pd.Series([str(x) for x in target.to_array()], dtype=\"category\")\n",
    "\n",
    "cvs = ds.Canvas(plot_width=800, plot_height=800)\n",
    "agg = cvs.points(df, 'x', 'y', ds.count_cat('class'))\n",
    "tf.set_background(tf.shade(agg),\"black\")"
   ]
  },
  {
   "cell_type": "markdown",
   "metadata": {
    "colab_type": "text",
    "id": "_zBULFT_nWu_"
   },
   "source": [
    "# CPU"
   ]
  },
  {
   "cell_type": "code",
   "execution_count": null,
   "metadata": {
    "colab": {},
    "colab_type": "code",
    "id": "ebLy5iGSmGPn"
   },
   "outputs": [],
   "source": [
    "source_df = pd.read_csv('fashion-mnist.csv')\n",
    "data = source_df.iloc[:, :784].values.astype(np.float32)\n",
    "target = source_df['class'].values\n",
    "\n",
    "reducer = umap.UMAP(\n",
    "    n_neighbors=15,\n",
    "    n_components=2,\n",
    "    n_epochs=500,\n",
    "    min_dist=0.1,    \n",
    "    random_state=42)"
   ]
  },
  {
   "cell_type": "code",
   "execution_count": null,
   "metadata": {
    "colab": {},
    "colab_type": "code",
    "id": "Y3yKnKpfnWMK"
   },
   "outputs": [],
   "source": [
    "%%time\n",
    "\n",
    "embedding = reducer.fit_transform(data)"
   ]
  },
  {
   "cell_type": "markdown",
   "metadata": {
    "colab": {},
    "colab_type": "code",
    "id": "qD3ZVqYZnccR"
   },
   "source": [
    "df = pd.DataFrame(embedding, columns=('x', 'y'))\n",
    "df['class'] = pd.Series([str(x) for x in target], dtype=\"category\")\n",
    "\n",
    "cvs = ds.Canvas(plot_width=400, plot_height=400)\n",
    "agg = cvs.points(df, 'x', 'y', ds.count_cat('class'))\n",
    "img = tf.shade(agg, color_key=color_key, how='eq_hist')\n",
    "\n",
    "utils.export_image(img, filename='fashion-mnist2', background='black')\n",
    "\n",
    "image = plt.imread('fashion-mnist2.png')\n",
    "fig, ax = plt.subplots(figsize=(12, 12))\n",
    "plt.imshow(image)\n",
    "plt.setp(ax, xticks=[], yticks=[])\n",
    "plt.title(\"Fashion MNIST data embedded\\n\"\n",
    "          \"into two dimensions by UMAP\\n\"\n",
    "          \"visualised with Datashader\",\n",
    "          fontsize=12)\n",
    "\n",
    "plt.show()"
   ]
  },
  {
   "cell_type": "code",
   "execution_count": null,
   "metadata": {
    "colab": {},
    "colab_type": "code",
    "id": "re6zMUqXwqHL"
   },
   "outputs": [],
   "source": [
    "df = pd.DataFrame(embedding, columns=('x', 'y'))\n",
    "df['class'] = pd.Series([str(x) for x in target], dtype=\"category\")\n",
    "\n",
    "cvs = ds.Canvas(plot_width=800, plot_height=800)\n",
    "agg = cvs.points(df, 'x', 'y', ds.count_cat('class'))\n",
    "tf.set_background(tf.shade(agg),\"black\")"
   ]
  }
 ],
 "metadata": {
  "accelerator": "GPU",
  "colab": {
   "collapsed_sections": [],
   "name": "GPU_vs_CPU_UMAP.ipynb",
   "provenance": [],
   "version": "0.3.2"
  },
  "kernelspec": {
   "display_name": "Python 3",
   "language": "python",
   "name": "python3"
  },
  "language_info": {
   "codemirror_mode": {
    "name": "ipython",
    "version": 3
   },
   "file_extension": ".py",
   "mimetype": "text/x-python",
   "name": "python",
   "nbconvert_exporter": "python",
   "pygments_lexer": "ipython3",
   "version": "3.7.6"
  }
 },
 "nbformat": 4,
 "nbformat_minor": 4
}
