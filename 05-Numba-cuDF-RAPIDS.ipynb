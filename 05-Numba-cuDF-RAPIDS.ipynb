{
 "cells": [
  {
   "cell_type": "markdown",
   "metadata": {
    "colab_type": "text",
    "id": "zEgdpZBTO_fy"
   },
   "source": [
    "# RAPIDS + Numba\n",
    "\n",
    "### Toy Problem, compute the distance of points to the origin\n",
    "\n",
    "The toy problem is to compute the distance of the list of points in 2-D space to the origin. First generate 1000 random points and load them to the GPU dataframe"
   ]
  },
  {
   "cell_type": "code",
   "execution_count": 3,
   "metadata": {
    "colab": {},
    "colab_type": "code",
    "id": "2KzWLwWMO_fz"
   },
   "outputs": [
    {
     "data": {
      "text/html": [
       "<div>\n",
       "<style scoped>\n",
       "    .dataframe tbody tr th:only-of-type {\n",
       "        vertical-align: middle;\n",
       "    }\n",
       "\n",
       "    .dataframe tbody tr th {\n",
       "        vertical-align: top;\n",
       "    }\n",
       "\n",
       "    .dataframe thead th {\n",
       "        text-align: right;\n",
       "    }\n",
       "</style>\n",
       "<table border=\"1\" class=\"dataframe\">\n",
       "  <thead>\n",
       "    <tr style=\"text-align: right;\">\n",
       "      <th></th>\n",
       "      <th>x</th>\n",
       "      <th>y</th>\n",
       "    </tr>\n",
       "  </thead>\n",
       "  <tbody>\n",
       "    <tr>\n",
       "      <th>0</th>\n",
       "      <td>0.442126</td>\n",
       "      <td>0.493815</td>\n",
       "    </tr>\n",
       "    <tr>\n",
       "      <th>1</th>\n",
       "      <td>0.833536</td>\n",
       "      <td>0.997508</td>\n",
       "    </tr>\n",
       "    <tr>\n",
       "      <th>2</th>\n",
       "      <td>0.660121</td>\n",
       "      <td>0.435508</td>\n",
       "    </tr>\n",
       "    <tr>\n",
       "      <th>3</th>\n",
       "      <td>0.380233</td>\n",
       "      <td>0.574162</td>\n",
       "    </tr>\n",
       "    <tr>\n",
       "      <th>4</th>\n",
       "      <td>0.237941</td>\n",
       "      <td>0.238514</td>\n",
       "    </tr>\n",
       "    <tr>\n",
       "      <th>...</th>\n",
       "      <td>...</td>\n",
       "      <td>...</td>\n",
       "    </tr>\n",
       "    <tr>\n",
       "      <th>995</th>\n",
       "      <td>0.983216</td>\n",
       "      <td>0.317850</td>\n",
       "    </tr>\n",
       "    <tr>\n",
       "      <th>996</th>\n",
       "      <td>0.025951</td>\n",
       "      <td>0.065297</td>\n",
       "    </tr>\n",
       "    <tr>\n",
       "      <th>997</th>\n",
       "      <td>0.029504</td>\n",
       "      <td>0.314337</td>\n",
       "    </tr>\n",
       "    <tr>\n",
       "      <th>998</th>\n",
       "      <td>0.838586</td>\n",
       "      <td>0.183924</td>\n",
       "    </tr>\n",
       "    <tr>\n",
       "      <th>999</th>\n",
       "      <td>0.513681</td>\n",
       "      <td>0.275773</td>\n",
       "    </tr>\n",
       "  </tbody>\n",
       "</table>\n",
       "<p>1000 rows × 2 columns</p>\n",
       "</div>"
      ],
      "text/plain": [
       "            x         y\n",
       "0    0.442126  0.493815\n",
       "1    0.833536  0.997508\n",
       "2    0.660121  0.435508\n",
       "3    0.380233  0.574162\n",
       "4    0.237941  0.238514\n",
       "..        ...       ...\n",
       "995  0.983216  0.317850\n",
       "996  0.025951  0.065297\n",
       "997  0.029504  0.314337\n",
       "998  0.838586  0.183924\n",
       "999  0.513681  0.275773\n",
       "\n",
       "[1000 rows x 2 columns]"
      ]
     },
     "execution_count": 3,
     "metadata": {},
     "output_type": "execute_result"
    }
   ],
   "source": [
    "import cudf\n",
    "import numpy as np\n",
    "import math\n",
    "from numba import cuda\n",
    "import cupy\n",
    " \n",
    "# construct the dataframe to store x and y coordinates of the points\n",
    "df = cudf.DataFrame()\n",
    "df['x'] = np.random.rand(1000)\n",
    "df['y'] = np.random.rand(1000)\n",
    "df"
   ]
  },
  {
   "cell_type": "code",
   "execution_count": 8,
   "metadata": {},
   "outputs": [
    {
     "data": {
      "text/plain": [
       "<matplotlib.collections.PathCollection at 0x7f0aa4bfd850>"
      ]
     },
     "execution_count": 8,
     "metadata": {},
     "output_type": "execute_result"
    },
    {
     "data": {
      "image/png": "[encoded data removed]",
      "text/plain": [
       "<Figure size 432x288 with 1 Axes>"
      ]
     },
     "metadata": {
      "needs_background": "light"
     },
     "output_type": "display_data"
    }
   ],
   "source": [
    "import matplotlib.pyplot as plt\n",
    "\n",
    "plt.scatter(df.x.to_pandas(), df.y.to_pandas())"
   ]
  },
  {
   "cell_type": "markdown",
   "metadata": {
    "colab_type": "text",
    "id": "P2Gk2EC4O_f5"
   },
   "source": [
    "Compute the ground truth distance by RAPIDS calls. And define the validation function to make sure the result matchs the ground truth for later use"
   ]
  },
  {
   "cell_type": "code",
   "execution_count": 11,
   "metadata": {
    "colab": {},
    "colab_type": "code",
    "id": "NVAV6roCO_f5"
   },
   "outputs": [
    {
     "data": {
      "text/html": [
       "<div>\n",
       "<style scoped>\n",
       "    .dataframe tbody tr th:only-of-type {\n",
       "        vertical-align: middle;\n",
       "    }\n",
       "\n",
       "    .dataframe tbody tr th {\n",
       "        vertical-align: top;\n",
       "    }\n",
       "\n",
       "    .dataframe thead th {\n",
       "        text-align: right;\n",
       "    }\n",
       "</style>\n",
       "<table border=\"1\" class=\"dataframe\">\n",
       "  <thead>\n",
       "    <tr style=\"text-align: right;\">\n",
       "      <th></th>\n",
       "      <th>x</th>\n",
       "      <th>y</th>\n",
       "      <th>ground_truth</th>\n",
       "    </tr>\n",
       "  </thead>\n",
       "  <tbody>\n",
       "    <tr>\n",
       "      <th>0</th>\n",
       "      <td>0.442126</td>\n",
       "      <td>0.493815</td>\n",
       "      <td>0.662819</td>\n",
       "    </tr>\n",
       "    <tr>\n",
       "      <th>1</th>\n",
       "      <td>0.833536</td>\n",
       "      <td>0.997508</td>\n",
       "      <td>1.299925</td>\n",
       "    </tr>\n",
       "    <tr>\n",
       "      <th>2</th>\n",
       "      <td>0.660121</td>\n",
       "      <td>0.435508</td>\n",
       "      <td>0.790839</td>\n",
       "    </tr>\n",
       "    <tr>\n",
       "      <th>3</th>\n",
       "      <td>0.380233</td>\n",
       "      <td>0.574162</td>\n",
       "      <td>0.688650</td>\n",
       "    </tr>\n",
       "    <tr>\n",
       "      <th>4</th>\n",
       "      <td>0.237941</td>\n",
       "      <td>0.238514</td>\n",
       "      <td>0.336905</td>\n",
       "    </tr>\n",
       "    <tr>\n",
       "      <th>...</th>\n",
       "      <td>...</td>\n",
       "      <td>...</td>\n",
       "      <td>...</td>\n",
       "    </tr>\n",
       "    <tr>\n",
       "      <th>995</th>\n",
       "      <td>0.983216</td>\n",
       "      <td>0.317850</td>\n",
       "      <td>1.033316</td>\n",
       "    </tr>\n",
       "    <tr>\n",
       "      <th>996</th>\n",
       "      <td>0.025951</td>\n",
       "      <td>0.065297</td>\n",
       "      <td>0.070265</td>\n",
       "    </tr>\n",
       "    <tr>\n",
       "      <th>997</th>\n",
       "      <td>0.029504</td>\n",
       "      <td>0.314337</td>\n",
       "      <td>0.315718</td>\n",
       "    </tr>\n",
       "    <tr>\n",
       "      <th>998</th>\n",
       "      <td>0.838586</td>\n",
       "      <td>0.183924</td>\n",
       "      <td>0.858519</td>\n",
       "    </tr>\n",
       "    <tr>\n",
       "      <th>999</th>\n",
       "      <td>0.513681</td>\n",
       "      <td>0.275773</td>\n",
       "      <td>0.583026</td>\n",
       "    </tr>\n",
       "  </tbody>\n",
       "</table>\n",
       "<p>1000 rows × 3 columns</p>\n",
       "</div>"
      ],
      "text/plain": [
       "            x         y  ground_truth\n",
       "0    0.442126  0.493815      0.662819\n",
       "1    0.833536  0.997508      1.299925\n",
       "2    0.660121  0.435508      0.790839\n",
       "3    0.380233  0.574162      0.688650\n",
       "4    0.237941  0.238514      0.336905\n",
       "..        ...       ...           ...\n",
       "995  0.983216  0.317850      1.033316\n",
       "996  0.025951  0.065297      0.070265\n",
       "997  0.029504  0.314337      0.315718\n",
       "998  0.838586  0.183924      0.858519\n",
       "999  0.513681  0.275773      0.583026\n",
       "\n",
       "[1000 rows x 3 columns]"
      ]
     },
     "execution_count": 11,
     "metadata": {},
     "output_type": "execute_result"
    }
   ],
   "source": [
    "df['ground_truth'] = cudf.sqrt(df['x']**2 + df['y']**2)\n",
    "\n",
    "# function to verify the results\n",
    "def verify(ground_truth, computed):\n",
    "    max_difference = cudf.sqrt((ground_truth - computed)**2).max()\n",
    "    assert(max_difference < 1e-8)\n",
    "    return max_difference\n",
    "\n",
    "df"
   ]
  },
  {
   "cell_type": "markdown",
   "metadata": {
    "colab_type": "text",
    "id": "9_yO8XZMO_f8"
   },
   "source": [
    "### Customized Kernel by RAPIDS API\n",
    "\n",
    "This is the easiest way to customize your computations.\n",
    "\n",
    "Introduce two functions:\n",
    "* apply_rows\n",
    "* apply_chunks\n",
    "\n",
    "`apply_rows` processes each of the rows of the Dataframe independently in parallel. Under the hood, the `apply_rows` method will optimally divide the long columns into chunks, and assign chunks into different GPU blocks and threads to compute. \n"
   ]
  },
  {
   "cell_type": "markdown",
   "metadata": {
    "colab_type": "text",
    "id": "b9VYmwpmO_f9"
   },
   "source": [
    "To use `apply_rows`, start with a simple Python function to compute the distance. `apply_rows` uses `Numba` to compile it to GPU native code."
   ]
  },
  {
   "cell_type": "code",
   "execution_count": 12,
   "metadata": {
    "colab": {},
    "colab_type": "code",
    "id": "Mlg5jfJaO_f9"
   },
   "outputs": [
    {
     "data": {
      "text/plain": [
       "2.220446049250313e-16"
      ]
     },
     "execution_count": 12,
     "metadata": {},
     "output_type": "execute_result"
    }
   ],
   "source": [
    "def distance_fun(x, y, distance):\n",
    "    for i, (x_value, y_value) in enumerate(zip(x, y)):\n",
    "        print('tid:', cuda.threadIdx.x, 'bid:', cuda.blockIdx.x, 'array size:', x.size, 'block threads:', cuda.blockDim.x, 'i', i )\n",
    "        distance[i] = math.sqrt(x_value**2 + y_value**2)\n",
    "\n",
    "outdf = df.apply_rows(distance_fun,\n",
    "                      incols=['x', 'y'],\n",
    "                      outcols=dict(distance=np.float64),\n",
    "                      kwargs=dict())\n",
    "\n",
    "error = verify(outdf['ground_truth'], outdf['distance']) \n",
    "error"
   ]
  },
  {
   "cell_type": "markdown",
   "metadata": {
    "colab_type": "text",
    "id": "M9Dv8BJqO_gA"
   },
   "source": [
    "Here is the example output from console for `apply_rows` call\n",
    "```\n",
    "...\n",
    "tid: 27 bid: 11 array size: 1 block threads: 64 i 0\n",
    "tid: 28 bid: 11 array size: 1 block threads: 64 i 0\n",
    "tid: 29 bid: 11 array size: 1 block threads: 64 i 0\n",
    "tid: 30 bid: 11 array size: 1 block threads: 64 i 0\n",
    "tid: 31 bid: 11 array size: 1 block threads: 64 i 0\n",
    "tid: 32 bid: 0 array size: 2 block threads: 64 i 1\n",
    "tid: 33 bid: 0 array size: 2 block threads: 64 i 1\n",
    "tid: 34 bid: 0 array size: 2 block threads: 64 i 1\n",
    "tid: 35 bid: 0 array size: 2 block threads: 64 i 1\n",
    "tid: 36 bid: 0 array size: 2 block threads: 64 i 1\n",
    "tid: 37 bid: 0 array size: 2 block threads: 64 i 1\n",
    "...\n",
    "```\n",
    "It uses 15 CUDA blocks (0 indexed). Each CUDA block uses 64 threads to do the computation. Each of the threads is handling an array of length 1 or 2. The row element processing order is not defined. \n",
    "\n",
    "`apply_chunks` has more control than `apply_rows`.  It can specify how to divide the long array into chunks, map each of the array chunks to different GPU blocks to process (chunks argument) and assign the number of thread in the block (tpb argument).  \n"
   ]
  },
  {
   "cell_type": "code",
   "execution_count": 13,
   "metadata": {
    "colab": {},
    "colab_type": "code",
    "id": "6kmUATrYO_gB"
   },
   "outputs": [
    {
     "data": {
      "text/plain": [
       "2.220446049250313e-16"
      ]
     },
     "execution_count": 13,
     "metadata": {},
     "output_type": "execute_result"
    }
   ],
   "source": [
    "def distance_fun(x, y, distance):\n",
    "    print('tid:', cuda.threadIdx.x, 'bid:', cuda.blockIdx.x, 'array size:', x.size, 'block threads:', cuda.blockDim.x, 'grid dim', cuda.gridDim.x)\n",
    "    for i in range(cuda.threadIdx.x, x.size, cuda.blockDim.x):\n",
    "        distance[i] = math.sqrt(x[i]**2 + y[i]**2)\n",
    "\n",
    "outdf2 = df.apply_chunks(distance_fun,\n",
    "                      incols=['x', 'y'],\n",
    "                      outcols=dict(distance=np.float64),\n",
    "                      kwargs=dict(),\n",
    "                      chunks=32,\n",
    "                      tpb=16)\n",
    "\n",
    "error = verify(outdf2['ground_truth'], outdf2['distance']) \n",
    "error"
   ]
  },
  {
   "cell_type": "markdown",
   "metadata": {
    "colab_type": "text",
    "id": "w1HGhNe-O_gD"
   },
   "source": [
    "Here is the example output from console for `apply_chunks` call\n",
    "```\n",
    "...\n",
    "tid: 12 bid: 12 array size: 32 block threads: 16 grid dim 16\n",
    "tid: 13 bid: 12 array size: 32 block threads: 16 grid dim 16\n",
    "tid: 14 bid: 12 array size: 32 block threads: 16 grid dim 16\n",
    "tid: 15 bid: 12 array size: 32 block threads: 16 grid dim 16\n",
    "tid: 0 bid: 7 array size: 32 block threads: 16 grid dim 16\n",
    "tid: 1 bid: 7 array size: 32 block threads: 16 grid dim 16\n",
    "tid: 2 bid: 7 array size: 32 block threads: 16 grid dim 16\n",
    "tid: 3 bid: 7 array size: 32 block threads: 16 grid dim 16\n",
    "tid: 4 bid: 7 array size: 32 block threads: 16 grid dim 16\n",
    "...\n",
    "```\n",
    "The kernel `distance_fun` is invoked concurrently on each specified chunk. It has full access to all the elements in that chunk of the array. \n",
    "\n",
    "In this example, it cuts the 1000 elements into chunks of size 32 (except the last one) and assigns them to 16 blocks.\n",
    "\n",
    "Each block uses 16 threads to process its array of size 32."
   ]
  },
  {
   "cell_type": "markdown",
   "metadata": {
    "colab": {},
    "colab_type": "code",
    "id": "uyU-qExfO_gY"
   },
   "source": [
    "There are several more complex ways to create Python code targeting the GPU, including writing CUDA code as Python strings and compiling them on the fly, but we'll omit those for now."
   ]
  },
  {
   "cell_type": "code",
   "execution_count": null,
   "metadata": {},
   "outputs": [],
   "source": []
  }
 ],
 "metadata": {
  "accelerator": "GPU",
  "colab": {
   "collapsed_sections": [],
   "name": "05-Numba-cuDF-RAPIDS.ipynb",
   "provenance": [],
   "version": "0.3.2"
  },
  "kernelspec": {
   "display_name": "Python 3",
   "language": "python",
   "name": "python3"
  },
  "language_info": {
   "codemirror_mode": {
    "name": "ipython",
    "version": 3
   },
   "file_extension": ".py",
   "mimetype": "text/x-python",
   "name": "python",
   "nbconvert_exporter": "python",
   "pygments_lexer": "ipython3",
   "version": "3.7.6"
  }
 },
 "nbformat": 4,
 "nbformat_minor": 4
}
