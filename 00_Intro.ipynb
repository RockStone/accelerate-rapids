{
  "nbformat": 4,
  "nbformat_minor": 0,
  "metadata": {
    "colab": {
      "name": "01-Intro",
      "provenance": [],
      "collapsed_sections": []
    },
    "kernelspec": {
      "name": "python3",
      "display_name": "Python 3"
    },
    "accelerator": "GPU"
  },
  "cells": [
    {
      "cell_type": "markdown",
      "metadata": {
        "id": "HYiqRSBOdaHG",
        "colab_type": "text"
      },
      "source": [
        "# Why Are We Interested in GPU, CUDA, Numba, RAPIDS...?\n",
        "\n",
        "Let's take a look.\n",
        "\n",
        "Here are 1 million numbers and their square roots in (regular) Python:"
      ]
    },
    {
      "cell_type": "code",
      "metadata": {
        "id": "CnmmTYn_men9",
        "colab_type": "code",
        "colab": {}
      },
      "source": [
        "import math\n",
        "\n",
        "numbers = list(range(1000000))"
      ],
      "execution_count": 0,
      "outputs": []
    },
    {
      "cell_type": "code",
      "metadata": {
        "id": "RHXLMQsKg3ki",
        "colab_type": "code",
        "colab": {}
      },
      "source": [
        "%%timeit \n",
        "\n",
        "s = [math.sqrt(x) for x in numbers]"
      ],
      "execution_count": 0,
      "outputs": []
    },
    {
      "cell_type": "markdown",
      "metadata": {
        "id": "Im0OGhiRd40F",
        "colab_type": "text"
      },
      "source": [
        "Using `numpy` we can both vectorize our operation and leverage a native (C) implementation from Python:"
      ]
    },
    {
      "cell_type": "code",
      "metadata": {
        "id": "XfYFls87mYJ2",
        "colab_type": "code",
        "colab": {}
      },
      "source": [
        "import numpy as np\n",
        "\n",
        "np_numbers = np.array(numbers)"
      ],
      "execution_count": 0,
      "outputs": []
    },
    {
      "cell_type": "code",
      "metadata": {
        "id": "frDit5S2hGCO",
        "colab_type": "code",
        "colab": {}
      },
      "source": [
        "%%timeit\n",
        "\n",
        "np_s = np.sqrt(np_numbers)"
      ],
      "execution_count": 0,
      "outputs": []
    },
    {
      "cell_type": "markdown",
      "metadata": {
        "id": "vLAhODzzeBko",
        "colab_type": "text"
      },
      "source": [
        "That's pretty nice. Of course, maybe we just started out with Python as an easy target.\n",
        "\n",
        "\n",
        "Let's look at jitted compiled code."
      ]
    },
    {
      "cell_type": "code",
      "metadata": {
        "id": "BfCEacOuFdnj",
        "colab_type": "code",
        "colab": {}
      },
      "source": [
        "import numba\n",
        "\n",
        "@numba.jit\n",
        "def root(n):\n",
        "  return np.sqrt(n)"
      ],
      "execution_count": 0,
      "outputs": []
    },
    {
      "cell_type": "code",
      "metadata": {
        "id": "q2Q8kza1Fn7b",
        "colab_type": "code",
        "colab": {}
      },
      "source": [
        "%%timeit\n",
        "\n",
        "numba_s = root(np_numbers)"
      ],
      "execution_count": 0,
      "outputs": []
    },
    {
      "cell_type": "markdown",
      "metadata": {
        "id": "w6qWPy5ReSuu",
        "colab_type": "text"
      },
      "source": [
        "Not bad. But we're here for GPUs ... will the GPU help much?"
      ]
    },
    {
      "cell_type": "code",
      "metadata": {
        "id": "f6Xc8G1nhmVe",
        "colab_type": "code",
        "colab": {}
      },
      "source": [
        "import torch\n",
        "\n",
        "gpu_numbers = torch.tensor(numbers, dtype=torch.float32).cuda()"
      ],
      "execution_count": 0,
      "outputs": []
    },
    {
      "cell_type": "code",
      "metadata": {
        "id": "KJj9HJdEhymu",
        "colab_type": "code",
        "colab": {}
      },
      "source": [
        "%%timeit\n",
        "\n",
        "gpu_squares = torch.sqrt(gpu_numbers)"
      ],
      "execution_count": 0,
      "outputs": []
    },
    {
      "cell_type": "markdown",
      "metadata": {
        "id": "AxTfJClieiCk",
        "colab_type": "text"
      },
      "source": [
        "Now things are getting interesting!"
      ]
    },
    {
      "cell_type": "code",
      "metadata": {
        "id": "TuO03lL-fEnA",
        "colab_type": "code",
        "colab": {}
      },
      "source": [
        ""
      ],
      "execution_count": 0,
      "outputs": []
    }
  ]
}