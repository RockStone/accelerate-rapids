{
 "cells": [
  {
   "cell_type": "markdown",
   "metadata": {
    "colab_type": "text",
    "id": "HYiqRSBOdaHG"
   },
   "source": [
    "# Why Are We Interested in GPU, CUDA, Numba, RAPIDS...?\n",
    "\n",
    "Let's take a look.\n",
    "\n",
    "Here are 1 million numbers and their square roots in (regular) Python:"
   ]
  },
  {
   "cell_type": "code",
   "execution_count": null,
   "metadata": {
    "colab": {},
    "colab_type": "code",
    "id": "CnmmTYn_men9"
   },
   "outputs": [],
   "source": [
    "import math\n",
    "\n",
    "numbers = list(range(1000000))"
   ]
  },
  {
   "cell_type": "code",
   "execution_count": null,
   "metadata": {
    "colab": {},
    "colab_type": "code",
    "id": "RHXLMQsKg3ki"
   },
   "outputs": [],
   "source": [
    "%%timeit \n",
    "\n",
    "s = [math.sqrt(x) for x in numbers]"
   ]
  },
  {
   "cell_type": "markdown",
   "metadata": {
    "colab_type": "text",
    "id": "Im0OGhiRd40F"
   },
   "source": [
    "Using `numpy` we can both vectorize our operation and leverage a native (C) implementation from Python:"
   ]
  },
  {
   "cell_type": "code",
   "execution_count": null,
   "metadata": {
    "colab": {},
    "colab_type": "code",
    "id": "XfYFls87mYJ2"
   },
   "outputs": [],
   "source": [
    "import numpy as np\n",
    "\n",
    "np_numbers = np.array(numbers)"
   ]
  },
  {
   "cell_type": "code",
   "execution_count": null,
   "metadata": {
    "colab": {},
    "colab_type": "code",
    "id": "frDit5S2hGCO"
   },
   "outputs": [],
   "source": [
    "%%timeit\n",
    "\n",
    "np_s = np.sqrt(np_numbers)"
   ]
  },
  {
   "cell_type": "markdown",
   "metadata": {
    "colab_type": "text",
    "id": "vLAhODzzeBko"
   },
   "source": [
    "That's pretty nice. Of course, maybe we just started out with Python as an easy target.\n",
    "\n",
    "\n",
    "Let's look at jitted compiled code."
   ]
  },
  {
   "cell_type": "code",
   "execution_count": null,
   "metadata": {
    "colab": {},
    "colab_type": "code",
    "id": "BfCEacOuFdnj"
   },
   "outputs": [],
   "source": [
    "import numba\n",
    "\n",
    "@numba.jit\n",
    "def root(n):\n",
    "  return np.sqrt(n)"
   ]
  },
  {
   "cell_type": "code",
   "execution_count": null,
   "metadata": {
    "colab": {},
    "colab_type": "code",
    "id": "q2Q8kza1Fn7b"
   },
   "outputs": [],
   "source": [
    "%%timeit\n",
    "\n",
    "numba_s = root(np_numbers)"
   ]
  },
  {
   "cell_type": "markdown",
   "metadata": {
    "colab_type": "text",
    "id": "w6qWPy5ReSuu"
   },
   "source": [
    "Not bad. But we're here for GPUs ... will the GPU help much?"
   ]
  },
  {
   "cell_type": "code",
   "execution_count": null,
   "metadata": {
    "colab": {},
    "colab_type": "code",
    "id": "f6Xc8G1nhmVe"
   },
   "outputs": [],
   "source": [
    "import torch\n",
    "\n",
    "gpu_numbers = torch.tensor(numbers, dtype=torch.float32).cuda()"
   ]
  },
  {
   "cell_type": "code",
   "execution_count": null,
   "metadata": {
    "colab": {},
    "colab_type": "code",
    "id": "KJj9HJdEhymu"
   },
   "outputs": [],
   "source": [
    "%%timeit\n",
    "\n",
    "gpu_squares = torch.sqrt(gpu_numbers)"
   ]
  },
  {
   "cell_type": "markdown",
   "metadata": {
    "colab_type": "text",
    "id": "AxTfJClieiCk"
   },
   "source": [
    "Now things are getting interesting!"
   ]
  },
  {
   "cell_type": "code",
   "execution_count": null,
   "metadata": {
    "colab": {},
    "colab_type": "code",
    "id": "TuO03lL-fEnA"
   },
   "outputs": [],
   "source": []
  }
 ],
 "metadata": {
  "accelerator": "GPU",
  "colab": {
   "collapsed_sections": [],
   "name": "01-Intro",
   "provenance": []
  },
  "kernelspec": {
   "display_name": "Python 3",
   "language": "python",
   "name": "python3"
  },
  "language_info": {
   "codemirror_mode": {
    "name": "ipython",
    "version": 3
   },
   "file_extension": ".py",
   "mimetype": "text/x-python",
   "name": "python",
   "nbconvert_exporter": "python",
   "pygments_lexer": "ipython3",
   "version": "3.7.4"
  }
 },
 "nbformat": 4,
 "nbformat_minor": 4
}
