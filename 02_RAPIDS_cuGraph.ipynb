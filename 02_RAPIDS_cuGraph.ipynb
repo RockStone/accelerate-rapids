{
 "cells": [
  {
   "cell_type": "markdown",
   "metadata": {
    "colab_type": "text",
    "id": "UAQKTx6cOflz"
   },
   "source": [
    "# cuGraph Intro\n",
    "\n",
    "*Original Authors: Bradley Rees and James Wyles, updated and edited by Adam Breindel*\n",
    "\n",
    "### cuGraph is the RAPIDS component focusing on graph analytics and algorithms\n",
    "\n",
    "API is inspired by the popular NetworkX library for Python (https://networkx.github.io/)."
   ]
  },
  {
   "cell_type": "markdown",
   "metadata": {
    "colab_type": "text",
    "id": "gIuIR39bOfl0"
   },
   "source": [
    "## Zachary Karate Club Data\n",
    "\n",
    "We will use a small, well-known graph dataset representing a university karate club.\n",
    "\n",
    "You can read an overview here: https://en.wikipedia.org/wiki/Zachary%27s_karate_club\n",
    "Or read the original paper, *W. W. Zachary, An information flow model for conflict and fission in small groups, Journal of Anthropological Research 33, 452-473 (1977)* (paywalled, but limited free trial: https://www.jstor.org/stable/3629752)\n",
    "\n",
    "\n",
    "![Karate Club](https://materials.s3.amazonaws.com/i/zgraph.png)\n",
    "\n",
    "This is a small graph which allows for easy visual inspection to validate results. \n",
    "\n",
    "__Note__: The Karate dataset starts with vertex ID 1 while the cuGraph analytics assume a zero-based starting ID. We'll see how that plays out when we process the graph."
   ]
  },
  {
   "cell_type": "markdown",
   "metadata": {
    "colab_type": "text",
    "id": "G7aGCJ5kOfl4"
   },
   "source": [
    "### Read the data"
   ]
  },
  {
   "cell_type": "code",
   "execution_count": null,
   "metadata": {
    "colab": {},
    "colab_type": "code",
    "id": "oYNbOuZQitUj"
   },
   "outputs": [],
   "source": [
    "! head data/karate-data.csv"
   ]
  },
  {
   "cell_type": "code",
   "execution_count": null,
   "metadata": {
    "colab": {},
    "colab_type": "code",
    "id": "xs5bq6RBOfl4"
   },
   "outputs": [],
   "source": [
    "import os\n",
    "\n",
    "datafile=os.getcwd() + '/data/karate-data.csv'"
   ]
  },
  {
   "cell_type": "code",
   "execution_count": null,
   "metadata": {
    "colab": {},
    "colab_type": "code",
    "id": "bH0K8MalOfl6"
   },
   "outputs": [],
   "source": [
    "import cudf\n",
    "\n",
    "karate = cudf.read_csv(datafile, names=['src','dst'], delimiter='\\t', dtype={'src':'int32', 'dst':'int32'} )"
   ]
  },
  {
   "cell_type": "code",
   "execution_count": null,
   "metadata": {
    "colab": {},
    "colab_type": "code",
    "id": "E28bb06xOfl-"
   },
   "outputs": [],
   "source": [
    "karate.head().to_pandas()"
   ]
  },
  {
   "cell_type": "code",
   "execution_count": null,
   "metadata": {
    "colab": {},
    "colab_type": "code",
    "id": "YwogwUQDOfmD"
   },
   "outputs": [],
   "source": [
    "import cugraph\n",
    "\n",
    "G = cugraph.Graph()\n",
    "G.add_edge_list(karate[\"src\"], karate[\"dst\"])"
   ]
  },
  {
   "cell_type": "markdown",
   "metadata": {
    "colab_type": "text",
    "id": "bW_6-N3qaMJG"
   },
   "source": [
    "## Breadth First Search (BFS) \n",
    "\n",
    "First, we'll compute the Breadth First Search path from a starting vertex to every other vertex in our training dataset.\n",
    "\n",
    "As the name implies, BFS traverses the given graph in a breadth first manner. Starting at a specified vertex, the algorithms iteratively searches neighboring vertices.  \n",
    "\n",
    "@see https://en.wikipedia.org/wiki/Breadth-first_search\n",
    "\n",
    "To compute BFS in cuGraph use: __bfs(G, start_id)__\n",
    "\n",
    "* __G__: A cugraph.Graph object\n",
    "* __start_id__ : the starting vertex ID\n",
    "\n",
    "Returns:\n",
    "\n",
    "* __df__: cudf.DataFrame with three names columns:\n",
    "    * df[\"vertex\"]:   The vertex id.\n",
    "    * df[\"distance\"]: The distance to the starting vertex\n",
    "    * df[\"predecessor\"]: The vertex ID of the vertex that was used to reach this vertex"
   ]
  },
  {
   "cell_type": "code",
   "execution_count": null,
   "metadata": {
    "colab": {},
    "colab_type": "code",
    "id": "w9OqKUsaaifn"
   },
   "outputs": [],
   "source": [
    "df = cugraph.bfs(G,1)\n",
    "df"
   ]
  },
  {
   "cell_type": "code",
   "execution_count": null,
   "metadata": {
    "colab": {},
    "colab_type": "code",
    "id": "ksLC5G0facVC"
   },
   "outputs": [],
   "source": [
    "# define a print path function that take the dataframe and a vertex ID\n",
    "\n",
    "def print_path(df, id):\n",
    "    \n",
    "    # Use the BFS predecessors and distance to trace the path \n",
    "    # from vertex id back to the starting vertex ( vertex 1 in this example)\n",
    "    dist = df['distance'][id]\n",
    "    lastVert = id\n",
    "    for i in range(dist):\n",
    "        nextVert = df['predecessor'][lastVert]\n",
    "        d = df['distance'][lastVert]\n",
    "        print(\"Vertex: \" + str(lastVert) + \" was reached from vertex \" + str(nextVert) + \n",
    "        \" and distance to start is \" + str(d) )\n",
    "        lastVert = nextVert"
   ]
  },
  {
   "cell_type": "code",
   "execution_count": null,
   "metadata": {
    "colab": {},
    "colab_type": "code",
    "id": "7-RbfYaPapE3"
   },
   "outputs": [],
   "source": [
    "print_path(df, 22)"
   ]
  },
  {
   "cell_type": "code",
   "execution_count": null,
   "metadata": {
    "colab": {},
    "colab_type": "code",
    "id": "t2PIace8bNRJ"
   },
   "outputs": [],
   "source": [
    "print_path(df, 30)"
   ]
  },
  {
   "cell_type": "markdown",
   "metadata": {
    "colab_type": "text",
    "id": "H4rCGhRrbR8I"
   },
   "source": [
    "__Since we can see in graph illustration above that vertex 17 is at the edge of the graph, let's run BFS with that as the starting vertex__"
   ]
  },
  {
   "cell_type": "code",
   "execution_count": null,
   "metadata": {
    "colab": {},
    "colab_type": "code",
    "id": "PAb80BIxbSpI"
   },
   "outputs": [],
   "source": [
    "# Call BFS on the graph starting from vertex 17\n",
    "df2 = cugraph.bfs(G,17)"
   ]
  },
  {
   "cell_type": "code",
   "execution_count": null,
   "metadata": {
    "colab": {},
    "colab_type": "code",
    "id": "OiRCPnWobiJu"
   },
   "outputs": [],
   "source": [
    "# Print the max distance\n",
    "df2[\"distance\"].max()"
   ]
  },
  {
   "cell_type": "markdown",
   "metadata": {
    "colab_type": "text",
    "id": "5tHf8OzEbrVt"
   },
   "source": [
    "Notice that max returned an unexpected value.  That is becouse the isolated vertex, 0, is unreachable.\n",
    "\n",
    "> Whenever a graph contains disjoint components, the distance to the unconnected vertices will always be max_int"
   ]
  },
  {
   "cell_type": "code",
   "execution_count": null,
   "metadata": {
    "colab": {},
    "colab_type": "code",
    "id": "ogCKYekJbk6N"
   },
   "outputs": [],
   "source": [
    "df2[\"distance\"][0]"
   ]
  },
  {
   "cell_type": "code",
   "execution_count": null,
   "metadata": {
    "colab": {},
    "colab_type": "code",
    "id": "jRQOrFm-bynt"
   },
   "outputs": [],
   "source": [
    "# drop all large distances \n",
    "\n",
    "df3 = df2.query(\"distance < 100\")"
   ]
  },
  {
   "cell_type": "code",
   "execution_count": null,
   "metadata": {
    "colab": {},
    "colab_type": "code",
    "id": "5aDEnq6Rb3N6"
   },
   "outputs": [],
   "source": [
    "# Print the max distance\n",
    "df3[\"distance\"].max()"
   ]
  },
  {
   "cell_type": "code",
   "execution_count": null,
   "metadata": {
    "colab": {},
    "colab_type": "code",
    "id": "phE-PRnkb_V7"
   },
   "outputs": [],
   "source": [
    "# Print path to vertex 30\n",
    "\n",
    "print_path(df2, 30)"
   ]
  },
  {
   "cell_type": "markdown",
   "metadata": {},
   "source": [
    "## Single Source Shortest Path (SSSP)\n",
    "\n",
    "We can use cuGraph to compute the shortest path from a starting vertex to everyother vertex in our training dataset.\n",
    "\n",
    "Single source shortest path computes the shortest paths from the given starting vertex to all other reachable vertices.\n",
    "\n",
    "To compute SSSP for a graph in cuGraph we use:\n",
    "**cugraph.sssp(G, source)**\n",
    "\n",
    "Input\n",
    "* __G__: cugraph.Graph object\n",
    "* __source__: int, Index of the source vertex\n",
    "\n",
    "Returns \n",
    "* __df__:  a cudf.DataFrame object with two columns:\n",
    "    * df['vertex']: The vertex identifier for the vertex\n",
    "    * df['distance']: The computed distance from the source vertex to this vertex"
   ]
  },
  {
   "cell_type": "code",
   "execution_count": null,
   "metadata": {
    "colab": {},
    "colab_type": "code",
    "id": "ggkiL9QKOfmF"
   },
   "outputs": [],
   "source": [
    "# Call cugraph.sssp to get the distances from vertex 0:\n",
    "df4 = cugraph.sssp(G, 1)\n",
    "df4"
   ]
  },
  {
   "cell_type": "markdown",
   "metadata": {},
   "source": [
    "__What are the farthest vertices from the source?__"
   ]
  },
  {
   "cell_type": "code",
   "execution_count": null,
   "metadata": {},
   "outputs": [],
   "source": [
    "df4.sort_values('distance', ascending=False)"
   ]
  },
  {
   "cell_type": "markdown",
   "metadata": {
    "colab_type": "text",
    "id": "UinD7dwziUHE"
   },
   "source": [
    "## Shortest Paths with (Asymmetric) Costs\n",
    "\n",
    "BFS looks a lot liks Shortest Paths when all of the edges have weight 1.0\n",
    "\n",
    "Let's see how this looks if we make edge costs 0.5 from (but not to) node 3"
   ]
  },
  {
   "cell_type": "code",
   "execution_count": null,
   "metadata": {
    "colab": {},
    "colab_type": "code",
    "id": "jhsPX4Oqi8U1"
   },
   "outputs": [],
   "source": [
    "karate.head()"
   ]
  },
  {
   "cell_type": "markdown",
   "metadata": {},
   "source": [
    "We need to add a weight column"
   ]
  },
  {
   "cell_type": "code",
   "execution_count": null,
   "metadata": {},
   "outputs": [],
   "source": [
    "karate['weight'] = 1.0"
   ]
  },
  {
   "cell_type": "code",
   "execution_count": null,
   "metadata": {},
   "outputs": [],
   "source": [
    "karate.head()"
   ]
  },
  {
   "cell_type": "code",
   "execution_count": null,
   "metadata": {},
   "outputs": [],
   "source": [
    "karate.loc[karate.src == 3, 'weight'] = 0.5"
   ]
  },
  {
   "cell_type": "code",
   "execution_count": null,
   "metadata": {
    "colab": {},
    "colab_type": "code",
    "id": "OwJb2GFadB35"
   },
   "outputs": [],
   "source": [
    "G2 = cugraph.Graph()\n",
    "G2.add_edge_list(karate.src, karate.dst, value_col=karate.weight)"
   ]
  },
  {
   "cell_type": "code",
   "execution_count": null,
   "metadata": {
    "colab": {},
    "colab_type": "code",
    "id": "vbz6dkAageMG"
   },
   "outputs": [],
   "source": [
    "df5 = cugraph.sssp(G2, 1)\n",
    "df5"
   ]
  },
  {
   "cell_type": "markdown",
   "metadata": {
    "colab_type": "text",
    "id": "2SgFw_yTk8Nt"
   },
   "source": [
    "For comparison:"
   ]
  },
  {
   "cell_type": "code",
   "execution_count": null,
   "metadata": {
    "colab": {},
    "colab_type": "code",
    "id": "as5pNe-QjwRx"
   },
   "outputs": [],
   "source": [
    "df4.sort_values('distance', ascending=False).head(10)"
   ]
  },
  {
   "cell_type": "code",
   "execution_count": null,
   "metadata": {},
   "outputs": [],
   "source": [
    "df5.sort_values('distance', ascending=False).head(10)"
   ]
  },
  {
   "cell_type": "code",
   "execution_count": null,
   "metadata": {},
   "outputs": [],
   "source": []
  }
 ],
 "metadata": {
  "accelerator": "GPU",
  "colab": {
   "collapsed_sections": [],
   "name": "10-cuGraph-SSSP-BFS.ipynb",
   "provenance": [],
   "version": "0.3.2"
  },
  "kernelspec": {
   "display_name": "Python 3",
   "language": "python",
   "name": "python3"
  },
  "language_info": {
   "codemirror_mode": {
    "name": "ipython",
    "version": 3
   },
   "file_extension": ".py",
   "mimetype": "text/x-python",
   "name": "python",
   "nbconvert_exporter": "python",
   "pygments_lexer": "ipython3",
   "version": "3.7.4"
  }
 },
 "nbformat": 4,
 "nbformat_minor": 4
}
