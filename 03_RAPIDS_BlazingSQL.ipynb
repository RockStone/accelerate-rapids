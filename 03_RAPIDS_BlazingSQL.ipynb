{
 "cells": [
  {
   "cell_type": "markdown",
   "metadata": {},
   "source": [
    "# BlazingSQL\n",
    "\n",
    "BlazingSQL (https://blazingsql.com/) is an independent, open-source element of RAPIDS that offers high-performance distributed SQL processing on GPU.\n",
    "\n",
    "Most of RAPIDS can run on CUDA Compute 6.0, but BlazingSQL requires 6.1 ... not a huge issue, but in a cutting-edge technical plan it's useful to be precise."
   ]
  },
  {
   "cell_type": "code",
   "execution_count": null,
   "metadata": {
    "colab": {
     "base_uri": "https://localhost:8080/",
     "height": 306
    },
    "colab_type": "code",
    "id": "9k5d6qKkCjNq",
    "outputId": "6384340d-fcb9-46bb-a047-12da205c69b1"
   },
   "outputs": [],
   "source": [
    "! nvidia-smi"
   ]
  },
  {
   "cell_type": "markdown",
   "metadata": {},
   "source": [
    "Let's do a quick test to make sure BlazingSQL -- which involves a number of background services -- is online\n",
    "\n",
    "We'll also demo how to define a BlazingSQL table over any existing cuDF DataFrame"
   ]
  },
  {
   "cell_type": "code",
   "execution_count": null,
   "metadata": {
    "colab": {
     "base_uri": "https://localhost:8080/",
     "height": 238
    },
    "colab_type": "code",
    "id": "2QhfPm6g9zJk",
    "outputId": "4f1ebead-2b69-4aee-8ae0-7467c295c6a9"
   },
   "outputs": [],
   "source": [
    "import cudf\n",
    "\n",
    "gdf = cudf.DataFrame({'test':[1,2,3]})\n",
    "print(gdf)\n",
    "print(gdf.describe())"
   ]
  },
  {
   "cell_type": "code",
   "execution_count": null,
   "metadata": {
    "colab": {},
    "colab_type": "code",
    "id": "Y7705GbC9tkE"
   },
   "outputs": [],
   "source": [
    "from blazingsql import BlazingContext"
   ]
  },
  {
   "cell_type": "code",
   "execution_count": null,
   "metadata": {
    "colab": {
     "base_uri": "https://localhost:8080/",
     "height": 34
    },
    "colab_type": "code",
    "id": "lY98GEFP1g2_",
    "outputId": "32f84de6-aa32-4c76-dc98-63c4c6a07856"
   },
   "outputs": [],
   "source": [
    "bc = BlazingContext()"
   ]
  },
  {
   "cell_type": "code",
   "execution_count": null,
   "metadata": {
    "colab": {
     "base_uri": "https://localhost:8080/",
     "height": 34
    },
    "colab_type": "code",
    "id": "PorSEjMaFzo-",
    "outputId": "0f62c08c-0d4e-4315-f57e-681cc0f494f0"
   },
   "outputs": [],
   "source": [
    "bc.create_table('foo', gdf)"
   ]
  },
  {
   "cell_type": "code",
   "execution_count": null,
   "metadata": {
    "colab": {
     "base_uri": "https://localhost:8080/",
     "height": 85
    },
    "colab_type": "code",
    "id": "SYApuO0zGk3u",
    "outputId": "c55ff477-6080-41ed-f3e4-75c5eb59896e"
   },
   "outputs": [],
   "source": [
    "# Query\n",
    "\n",
    "bc.sql('SELECT * FROM foo ORDER BY test DESC')"
   ]
  },
  {
   "cell_type": "markdown",
   "metadata": {},
   "source": [
    "### What about processing my data lake?\n",
    "\n",
    "In some cases, we may have a data in a cuDF DataFrame, but -- maybe more often -- we're using SQL early in the pipeline to perform ETL, joins, or course-grained feature extraction over our data lake.\n",
    "\n",
    "So we want to consume Parquet, CSV, and other formats straight from S3, HDFS, etc. (docs are at https://docs.blazingdb.com/docs)\n",
    "\n",
    "For simplicity, we'll use a local file here for a quick demo."
   ]
  },
  {
   "cell_type": "code",
   "execution_count": null,
   "metadata": {},
   "outputs": [],
   "source": [
    "import os\n",
    "\n",
    "data_path = os.getcwd() +'/data/'"
   ]
  },
  {
   "cell_type": "code",
   "execution_count": null,
   "metadata": {
    "colab": {},
    "colab_type": "code",
    "id": "fZVO6WIlT-i1"
   },
   "outputs": [],
   "source": [
    "bc.create_table('beer', data_path + 'beer_small.csv', header=True)"
   ]
  },
  {
   "cell_type": "code",
   "execution_count": null,
   "metadata": {},
   "outputs": [],
   "source": [
    "result_gdf = bc.sql(\"SELECT * FROM beer WHERE brewery_name='Sunday River Brewing Co.'\")\n",
    "result_gdf"
   ]
  },
  {
   "cell_type": "code",
   "execution_count": null,
   "metadata": {},
   "outputs": [],
   "source": [
    "bc.sql(\"SELECT * FROM beer WHERE beer_style='Belgian IPA' AND review_overall > 4.5 ORDER BY brewery_name\")"
   ]
  },
  {
   "cell_type": "code",
   "execution_count": null,
   "metadata": {},
   "outputs": [],
   "source": [
    "result = bc.sql(\"SELECT brewery_name, count(*) AS number FROM beer WHERE beer_style='Belgian IPA' AND review_overall > 4.5 GROUP BY brewery_name ORDER BY number DESC\")\n",
    "result"
   ]
  },
  {
   "cell_type": "code",
   "execution_count": null,
   "metadata": {},
   "outputs": [],
   "source": [
    "import pandas as pd\n",
    "\n",
    "pdf = result.to_pandas()"
   ]
  },
  {
   "cell_type": "code",
   "execution_count": null,
   "metadata": {},
   "outputs": [],
   "source": [
    "%matplotlib inline\n",
    "\n",
    "pdf.plot.bar('brewery_name', 'number', figsize=(16,10))"
   ]
  },
  {
   "cell_type": "code",
   "execution_count": null,
   "metadata": {},
   "outputs": [],
   "source": []
  }
 ],
 "metadata": {
  "accelerator": "GPU",
  "colab": {
   "collapsed_sections": [],
   "include_colab_link": true,
   "name": "02-RAPIDS-Blazing-SQL.ipynb",
   "provenance": []
  },
  "kernelspec": {
   "display_name": "Python 3",
   "language": "python",
   "name": "python3"
  },
  "language_info": {
   "codemirror_mode": {
    "name": "ipython",
    "version": 3
   },
   "file_extension": ".py",
   "mimetype": "text/x-python",
   "name": "python",
   "nbconvert_exporter": "python",
   "pygments_lexer": "ipython3",
   "version": "3.7.3"
  }
 },
 "nbformat": 4,
 "nbformat_minor": 4
}
