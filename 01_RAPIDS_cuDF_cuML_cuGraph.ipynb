{
  "nbformat": 4,
  "nbformat_minor": 0,
  "metadata": {
    "colab": {
      "name": "01-RAPIDS-cuDF-cuML-cuGraph.ipynb",
      "provenance": [],
      "collapsed_sections": [],
      "include_colab_link": true
    },
    "kernelspec": {
      "name": "python3",
      "display_name": "Python 3"
    },
    "accelerator": "GPU"
  },
  "cells": [
    {
      "cell_type": "markdown",
      "metadata": {
        "id": "view-in-github",
        "colab_type": "text"
      },
      "source": [
        "<a href=\"https://colab.research.google.com/github/adbreind/accelerate-rapids/blob/master/01_RAPIDS_cuDF_cuML_cuGraph.ipynb\" target=\"_parent\"><img src=\"https://colab.research.google.com/assets/colab-badge.svg\" alt=\"Open In Colab\"/></a>"
      ]
    },
    {
      "cell_type": "markdown",
      "metadata": {
        "id": "scfLT2i0MLyD",
        "colab_type": "text"
      },
      "source": [
        "# Environment Sanity Check #\n",
        "\n",
        "Click the _Runtime_ dropdown at the top of the page, then _Change Runtime Type_ and confirm the instance type is _GPU_.\n",
        "\n",
        "Check the output of `!nvidia-smi` to make sure you've been allocated a Tesla T4."
      ]
    },
    {
      "cell_type": "code",
      "metadata": {
        "id": "B0C8IV5TQnjN",
        "colab_type": "code",
        "outputId": "5d96e036-e3fa-4306-a554-65c6592d782d",
        "colab": {
          "base_uri": "https://localhost:8080/",
          "height": 306
        }
      },
      "source": [
        "!nvidia-smi"
      ],
      "execution_count": 1,
      "outputs": [
        {
          "output_type": "stream",
          "text": [
            "Mon Sep 30 22:13:01 2019       \n",
            "+-----------------------------------------------------------------------------+\n",
            "| NVIDIA-SMI 430.40       Driver Version: 418.67       CUDA Version: 10.1     |\n",
            "|-------------------------------+----------------------+----------------------+\n",
            "| GPU  Name        Persistence-M| Bus-Id        Disp.A | Volatile Uncorr. ECC |\n",
            "| Fan  Temp  Perf  Pwr:Usage/Cap|         Memory-Usage | GPU-Util  Compute M. |\n",
            "|===============================+======================+======================|\n",
            "|   0  Tesla T4            Off  | 00000000:00:04.0 Off |                    0 |\n",
            "| N/A   50C    P8    10W /  70W |      0MiB / 15079MiB |      0%      Default |\n",
            "+-------------------------------+----------------------+----------------------+\n",
            "                                                                               \n",
            "+-----------------------------------------------------------------------------+\n",
            "| Processes:                                                       GPU Memory |\n",
            "|  GPU       PID   Type   Process name                             Usage      |\n",
            "|=============================================================================|\n",
            "|  No running processes found                                                 |\n",
            "+-----------------------------------------------------------------------------+\n"
          ],
          "name": "stdout"
        }
      ]
    },
    {
      "cell_type": "code",
      "metadata": {
        "id": "m0jdXBRiDSzj",
        "colab_type": "code",
        "outputId": "06cba979-996e-4aa9-ac1a-ba1ff14422e5",
        "colab": {
          "base_uri": "https://localhost:8080/",
          "height": 1000
        }
      },
      "source": [
        "# intall miniconda\n",
        "!wget -c https://repo.continuum.io/miniconda/Miniconda3-4.5.4-Linux-x86_64.sh\n",
        "!chmod +x Miniconda3-4.5.4-Linux-x86_64.sh\n",
        "!bash ./Miniconda3-4.5.4-Linux-x86_64.sh -b -f -p /usr/local\n",
        "\n",
        "# install RAPIDS packages\n",
        "!conda install -q -y --prefix /usr/local -c nvidia -c rapidsai \\\n",
        "  -c numba -c conda-forge -c pytorch -c defaults \\\n",
        "  cudf=0.9 cuml=0.9 cugraph=0.9 python=3.6 cudatoolkit=10.0\n",
        "\n",
        "# set environment vars\n",
        "import sys, os, shutil\n",
        "sys.path.append('/usr/local/lib/python3.6/site-packages/')\n",
        "os.environ['NUMBAPRO_NVVM'] = '/usr/local/cuda/nvvm/lib64/libnvvm.so'\n",
        "os.environ['NUMBAPRO_LIBDEVICE'] = '/usr/local/cuda/nvvm/libdevice/'\n",
        "\n",
        "# copy .so files to current working dir\n",
        "for fn in ['libcudf.so', 'librmm.so']:\n",
        "  shutil.copy('/usr/local/lib/'+fn, os.getcwd())"
      ],
      "execution_count": 2,
      "outputs": [
        {
          "output_type": "stream",
          "text": [
            "--2019-09-30 22:13:02--  https://repo.continuum.io/miniconda/Miniconda3-4.5.4-Linux-x86_64.sh\n",
            "Resolving repo.continuum.io (repo.continuum.io)... 104.18.201.79, 104.18.200.79, 2606:4700::6812:c84f, ...\n",
            "Connecting to repo.continuum.io (repo.continuum.io)|104.18.201.79|:443... connected.\n",
            "HTTP request sent, awaiting response... 200 OK\n",
            "Length: 58468498 (56M) [application/x-sh]\n",
            "Saving to: ‘Miniconda3-4.5.4-Linux-x86_64.sh’\n",
            "\n",
            "Miniconda3-4.5.4-Li 100%[===================>]  55.76M  61.4MB/s    in 0.9s    \n",
            "\n",
            "2019-09-30 22:13:03 (61.4 MB/s) - ‘Miniconda3-4.5.4-Linux-x86_64.sh’ saved [58468498/58468498]\n",
            "\n",
            "PREFIX=/usr/local\n",
            "installing: python-3.6.5-hc3d631a_2 ...\n",
            "Python 3.6.5 :: Anaconda, Inc.\n",
            "installing: ca-certificates-2018.03.07-0 ...\n",
            "installing: conda-env-2.6.0-h36134e3_1 ...\n",
            "installing: libgcc-ng-7.2.0-hdf63c60_3 ...\n",
            "installing: libstdcxx-ng-7.2.0-hdf63c60_3 ...\n",
            "installing: libffi-3.2.1-hd88cf55_4 ...\n",
            "installing: ncurses-6.1-hf484d3e_0 ...\n",
            "installing: openssl-1.0.2o-h20670df_0 ...\n",
            "installing: tk-8.6.7-hc745277_3 ...\n",
            "installing: xz-5.2.4-h14c3975_4 ...\n",
            "installing: yaml-0.1.7-had09818_2 ...\n",
            "installing: zlib-1.2.11-ha838bed_2 ...\n",
            "installing: libedit-3.1.20170329-h6b74fdf_2 ...\n",
            "installing: readline-7.0-ha6073c6_4 ...\n",
            "installing: sqlite-3.23.1-he433501_0 ...\n",
            "installing: asn1crypto-0.24.0-py36_0 ...\n",
            "installing: certifi-2018.4.16-py36_0 ...\n",
            "installing: chardet-3.0.4-py36h0f667ec_1 ...\n",
            "installing: idna-2.6-py36h82fb2a8_1 ...\n",
            "installing: pycosat-0.6.3-py36h0a5515d_0 ...\n",
            "installing: pycparser-2.18-py36hf9f622e_1 ...\n",
            "installing: pysocks-1.6.8-py36_0 ...\n",
            "installing: ruamel_yaml-0.15.37-py36h14c3975_2 ...\n",
            "installing: six-1.11.0-py36h372c433_1 ...\n",
            "installing: cffi-1.11.5-py36h9745a5d_0 ...\n",
            "installing: setuptools-39.2.0-py36_0 ...\n",
            "installing: cryptography-2.2.2-py36h14c3975_0 ...\n",
            "installing: wheel-0.31.1-py36_0 ...\n",
            "installing: pip-10.0.1-py36_0 ...\n",
            "installing: pyopenssl-18.0.0-py36_0 ...\n",
            "installing: urllib3-1.22-py36hbe7ace6_0 ...\n",
            "installing: requests-2.18.4-py36he2e5f8d_1 ...\n",
            "installing: conda-4.5.4-py36_0 ...\n",
            "installation finished.\n",
            "WARNING:\n",
            "    You currently have a PYTHONPATH environment variable set. This may cause\n",
            "    unexpected behavior when running the Python interpreter in Miniconda3.\n",
            "    For best results, please verify that your PYTHONPATH only points to\n",
            "    directories of packages that are compatible with the Python interpreter\n",
            "    in Miniconda3: /usr/local\n",
            "Solving environment: ...working... done\n",
            "\n",
            "## Package Plan ##\n",
            "\n",
            "  environment location: /usr/local\n",
            "\n",
            "  added / updated specs: \n",
            "    - cudatoolkit=10.0\n",
            "    - cudf=0.9\n",
            "    - cugraph=0.9\n",
            "    - cuml=0.9\n",
            "    - python=3.6\n",
            "\n",
            "\n",
            "The following packages will be downloaded:\n",
            "\n",
            "    package                    |            build\n",
            "    ---------------------------|-----------------\n",
            "    re2-2019.09.01             |       he1b5a44_0         431 KB  conda-forge\n",
            "    cudatoolkit-10.0.130       |                0       380.0 MB  nvidia\n",
            "    brotli-1.0.7               |    he1b5a44_1000         1.0 MB  conda-forge\n",
            "    cugraph-0.9.0              |           py36_0         1.3 MB  rapidsai\n",
            "    readline-8.0               |       hf8c457e_0         441 KB  conda-forge\n",
            "    dlpack-0.2                 |       he1b5a44_1          13 KB  conda-forge\n",
            "    numba-0.45.1               |np116py36hf484d3e_0         3.2 MB  numba\n",
            "    nccl-2.4.6.1               |       cuda10.0_0        66.6 MB  nvidia\n",
            "    cffi-1.12.3                |   py36h8022711_0         218 KB  conda-forge\n",
            "    ncurses-6.1                |    hf484d3e_1002         1.3 MB  conda-forge\n",
            "    zlib-1.2.11                |    h516909a_1006         105 KB  conda-forge\n",
            "    double-conversion-3.1.5    |       he1b5a44_1          85 KB  conda-forge\n",
            "    uriparser-0.9.3            |       he1b5a44_1          49 KB  conda-forge\n",
            "    c-ares-1.15.0              |    h516909a_1001         100 KB  conda-forge\n",
            "    tk-8.6.9                   |    hed695b0_1003         3.2 MB  conda-forge\n",
            "    python-3.6.7               |    h357f687_1005        34.6 MB  conda-forge\n",
            "    cython-0.29.13             |   py36he1b5a44_0         2.2 MB  conda-forge\n",
            "    nvstrings-0.9.0            |           py36_0         124 KB  rapidsai\n",
            "    pytz-2019.2                |             py_0         228 KB  conda-forge\n",
            "    parquet-cpp-1.5.1          |                2           3 KB  conda-forge\n",
            "    librmm-0.9.0               |       cuda10.0_0          44 KB  rapidsai\n",
            "    bzip2-1.0.8                |       h516909a_1         397 KB  conda-forge\n",
            "    liblapack-3.8.0            |      12_openblas          10 KB  conda-forge\n",
            "    _libgcc_mutex-0.1          |             main           3 KB\n",
            "    glog-0.4.0                 |       he1b5a44_1         104 KB  conda-forge\n",
            "    icu-64.2                   |       he1b5a44_1        12.6 MB  conda-forge\n",
            "    arrow-cpp-0.14.1           |   py36h5ac5442_4        17.3 MB  conda-forge\n",
            "    libprotobuf-3.8.0          |       h8b12597_0         4.7 MB  conda-forge\n",
            "    libopenblas-0.3.7          |       h6e990d7_1         7.6 MB  conda-forge\n",
            "    ca-certificates-2019.9.11  |       hecc5488_0         144 KB  conda-forge\n",
            "    snappy-1.1.7               |    he1b5a44_1002          39 KB  conda-forge\n",
            "    libstdcxx-ng-9.1.0         |       hdf63c60_0         4.0 MB\n",
            "    numpy-1.16.4               |   py36h95a1406_0         4.3 MB  conda-forge\n",
            "    rmm-0.9.0                  |           py36_0          14 KB  rapidsai\n",
            "    setuptools-41.2.0          |           py36_0         634 KB  conda-forge\n",
            "    libcumlprims-0.9.0         |       cuda10.0_0         3.9 MB  nvidia\n",
            "    fastavro-0.22.5            |   py36h516909a_0         405 KB  conda-forge\n",
            "    pip-19.2.3                 |           py36_0         1.9 MB  conda-forge\n",
            "    cuml-0.9.1                 |  cuda10.0_py36_0         5.9 MB  rapidsai\n",
            "    libgcc-ng-9.1.0            |       hdf63c60_0         8.1 MB\n",
            "    openssl-1.1.1c             |       h516909a_0         2.1 MB  conda-forge\n",
            "    grpc-cpp-1.23.0            |       h18db393_0         4.5 MB  conda-forge\n",
            "    libcudf-0.9.0              |       cuda10.0_0        29.1 MB  rapidsai\n",
            "    gflags-2.2.2               |    he1b5a44_1001         177 KB  conda-forge\n",
            "    libevent-2.1.10            |       h72c5cf5_0         1.3 MB  conda-forge\n",
            "    thrift-cpp-0.12.0          |    hf3afdfd_1004         2.4 MB  conda-forge\n",
            "    pycparser-2.19             |           py36_1         173 KB  conda-forge\n",
            "    llvmlite-0.29.0            |   py36hf484d3e_0        17.7 MB  numba\n",
            "    lz4-c-1.8.3                |    he1b5a44_1001         187 KB  conda-forge\n",
            "    certifi-2019.9.11          |           py36_0         147 KB  conda-forge\n",
            "    pandas-0.24.2              |   py36hb3f55d8_0        11.1 MB  conda-forge\n",
            "    pyarrow-0.14.1             |   py36h8b68381_2         2.8 MB  conda-forge\n",
            "    python-dateutil-2.8.0      |             py_0         219 KB  conda-forge\n",
            "    zstd-1.4.0                 |       h3b9ef0a_0         928 KB  conda-forge\n",
            "    six-1.12.0                 |        py36_1000          22 KB  conda-forge\n",
            "    boost-cpp-1.70.0           |       h8e57a91_2        21.1 MB  conda-forge\n",
            "    libnvstrings-0.9.0         |       cuda10.0_0        16.8 MB  rapidsai\n",
            "    cudf-0.9.0                 |           py36_0         4.8 MB  rapidsai\n",
            "    libcugraph-0.9.0           |       cuda10.0_0        11.3 MB  rapidsai\n",
            "    xz-5.2.4                   |    h14c3975_1001         366 KB  conda-forge\n",
            "    wheel-0.33.6               |           py36_0          35 KB  conda-forge\n",
            "    libblas-3.8.0              |      12_openblas          10 KB  conda-forge\n",
            "    libcblas-3.8.0             |      12_openblas          10 KB  conda-forge\n",
            "    sqlite-3.29.0              |       hcee41ef_1         1.9 MB  conda-forge\n",
            "    libcuml-0.9.1              |       cuda10.0_0        29.7 MB  rapidsai\n",
            "    libgfortran-ng-7.3.0       |       hdf63c60_0         1.3 MB\n",
            "    libffi-3.2.1               |    he1b5a44_1006          46 KB  conda-forge\n",
            "    ------------------------------------------------------------\n",
            "                                           Total:       727.5 MB\n",
            "\n",
            "The following NEW packages will be INSTALLED:\n",
            "\n",
            "    _libgcc_mutex:     0.1-main                              \n",
            "    arrow-cpp:         0.14.1-py36h5ac5442_4      conda-forge\n",
            "    boost-cpp:         1.70.0-h8e57a91_2          conda-forge\n",
            "    brotli:            1.0.7-he1b5a44_1000        conda-forge\n",
            "    bzip2:             1.0.8-h516909a_1           conda-forge\n",
            "    c-ares:            1.15.0-h516909a_1001       conda-forge\n",
            "    cudatoolkit:       10.0.130-0                 nvidia     \n",
            "    cudf:              0.9.0-py36_0               rapidsai   \n",
            "    cugraph:           0.9.0-py36_0               rapidsai   \n",
            "    cuml:              0.9.1-cuda10.0_py36_0      rapidsai   \n",
            "    cython:            0.29.13-py36he1b5a44_0     conda-forge\n",
            "    dlpack:            0.2-he1b5a44_1             conda-forge\n",
            "    double-conversion: 3.1.5-he1b5a44_1           conda-forge\n",
            "    fastavro:          0.22.5-py36h516909a_0      conda-forge\n",
            "    gflags:            2.2.2-he1b5a44_1001        conda-forge\n",
            "    glog:              0.4.0-he1b5a44_1           conda-forge\n",
            "    grpc-cpp:          1.23.0-h18db393_0          conda-forge\n",
            "    icu:               64.2-he1b5a44_1            conda-forge\n",
            "    libblas:           3.8.0-12_openblas          conda-forge\n",
            "    libcblas:          3.8.0-12_openblas          conda-forge\n",
            "    libcudf:           0.9.0-cuda10.0_0           rapidsai   \n",
            "    libcugraph:        0.9.0-cuda10.0_0           rapidsai   \n",
            "    libcuml:           0.9.1-cuda10.0_0           rapidsai   \n",
            "    libcumlprims:      0.9.0-cuda10.0_0           nvidia     \n",
            "    libevent:          2.1.10-h72c5cf5_0          conda-forge\n",
            "    libgfortran-ng:    7.3.0-hdf63c60_0                      \n",
            "    liblapack:         3.8.0-12_openblas          conda-forge\n",
            "    libnvstrings:      0.9.0-cuda10.0_0           rapidsai   \n",
            "    libopenblas:       0.3.7-h6e990d7_1           conda-forge\n",
            "    libprotobuf:       3.8.0-h8b12597_0           conda-forge\n",
            "    librmm:            0.9.0-cuda10.0_0           rapidsai   \n",
            "    llvmlite:          0.29.0-py36hf484d3e_0      numba      \n",
            "    lz4-c:             1.8.3-he1b5a44_1001        conda-forge\n",
            "    nccl:              2.4.6.1-cuda10.0_0         nvidia     \n",
            "    numba:             0.45.1-np116py36hf484d3e_0 numba      \n",
            "    numpy:             1.16.4-py36h95a1406_0      conda-forge\n",
            "    nvstrings:         0.9.0-py36_0               rapidsai   \n",
            "    pandas:            0.24.2-py36hb3f55d8_0      conda-forge\n",
            "    parquet-cpp:       1.5.1-2                    conda-forge\n",
            "    pyarrow:           0.14.1-py36h8b68381_2      conda-forge\n",
            "    python-dateutil:   2.8.0-py_0                 conda-forge\n",
            "    pytz:              2019.2-py_0                conda-forge\n",
            "    re2:               2019.09.01-he1b5a44_0      conda-forge\n",
            "    rmm:               0.9.0-py36_0               rapidsai   \n",
            "    snappy:            1.1.7-he1b5a44_1002        conda-forge\n",
            "    thrift-cpp:        0.12.0-hf3afdfd_1004       conda-forge\n",
            "    uriparser:         0.9.3-he1b5a44_1           conda-forge\n",
            "    zstd:              1.4.0-h3b9ef0a_0           conda-forge\n",
            "\n",
            "The following packages will be UPDATED:\n",
            "\n",
            "    ca-certificates:   2018.03.07-0                           --> 2019.9.11-hecc5488_0  conda-forge\n",
            "    certifi:           2018.4.16-py36_0                       --> 2019.9.11-py36_0      conda-forge\n",
            "    cffi:              1.11.5-py36h9745a5d_0                  --> 1.12.3-py36h8022711_0 conda-forge\n",
            "    libffi:            3.2.1-hd88cf55_4                       --> 3.2.1-he1b5a44_1006   conda-forge\n",
            "    libgcc-ng:         7.2.0-hdf63c60_3                       --> 9.1.0-hdf63c60_0                 \n",
            "    libstdcxx-ng:      7.2.0-hdf63c60_3                       --> 9.1.0-hdf63c60_0                 \n",
            "    ncurses:           6.1-hf484d3e_0                         --> 6.1-hf484d3e_1002     conda-forge\n",
            "    openssl:           1.0.2o-h20670df_0                      --> 1.1.1c-h516909a_0     conda-forge\n",
            "    pip:               10.0.1-py36_0                          --> 19.2.3-py36_0         conda-forge\n",
            "    pycparser:         2.18-py36hf9f622e_1                    --> 2.19-py36_1           conda-forge\n",
            "    python:            3.6.5-hc3d631a_2                       --> 3.6.7-h357f687_1005   conda-forge\n",
            "    readline:          7.0-ha6073c6_4                         --> 8.0-hf8c457e_0        conda-forge\n",
            "    setuptools:        39.2.0-py36_0                          --> 41.2.0-py36_0         conda-forge\n",
            "    six:               1.11.0-py36h372c433_1                  --> 1.12.0-py36_1000      conda-forge\n",
            "    sqlite:            3.23.1-he433501_0                      --> 3.29.0-hcee41ef_1     conda-forge\n",
            "    tk:                8.6.7-hc745277_3                       --> 8.6.9-hed695b0_1003   conda-forge\n",
            "    wheel:             0.31.1-py36_0                          --> 0.33.6-py36_0         conda-forge\n",
            "    xz:                5.2.4-h14c3975_4                       --> 5.2.4-h14c3975_1001   conda-forge\n",
            "    zlib:              1.2.11-ha838bed_2                      --> 1.2.11-h516909a_1006  conda-forge\n",
            "\n",
            "Preparing transaction: ...working... done\n",
            "Verifying transaction: ...working... done\n",
            "Executing transaction: ...working... done\n"
          ],
          "name": "stdout"
        }
      ]
    },
    {
      "cell_type": "markdown",
      "metadata": {
        "id": "9oOCJ4NYMjY7",
        "colab_type": "text"
      },
      "source": [
        "# cuDF and cuML Smoke Test \n",
        "\n",
        "_Note_: You must import nvstrings and nvcategory before cudf, else you'll get errors."
      ]
    },
    {
      "cell_type": "code",
      "metadata": {
        "id": "EwaJSKuswsNi",
        "colab_type": "code",
        "outputId": "2c5534d2-e517-4674-852b-124f37c8a4e7",
        "colab": {
          "base_uri": "https://localhost:8080/",
          "height": 238
        }
      },
      "source": [
        "import nvstrings, nvcategory, cudf\n",
        "\n",
        "gdf = cudf.DataFrame({'test':[1,2,3]})\n",
        "print(gdf)\n",
        "print(gdf.describe())"
      ],
      "execution_count": 8,
      "outputs": [
        {
          "output_type": "stream",
          "text": [
            "   test\n",
            "0     1\n",
            "1     2\n",
            "2     3\n",
            "       test\n",
            "count   3.0\n",
            "mean    2.0\n",
            "std     1.0\n",
            "min     1.0\n",
            "25%     1.5\n",
            "50%     2.0\n",
            "75%     2.5\n",
            "max     3.0\n"
          ],
          "name": "stdout"
        }
      ]
    },
    {
      "cell_type": "code",
      "metadata": {
        "id": "dCE8WhO3HpL_",
        "colab_type": "code",
        "outputId": "505aec19-8acd-4cbe-9b0e-a38bda9fb68c",
        "colab": {
          "base_uri": "https://localhost:8080/",
          "height": 85
        }
      },
      "source": [
        "import cuml\n",
        "\n",
        "df_float = cudf.DataFrame()\n",
        "df_float['0'] = [1.0, 2.0, 5.0]\n",
        "df_float['1'] = [4.0, 2.0, 1.0]\n",
        "\n",
        "dbscan_float = cuml.DBSCAN(eps=1.0, min_samples=1)\n",
        "dbscan_float.fit(df_float)\n",
        "\n",
        "print(dbscan_float.labels_)"
      ],
      "execution_count": 29,
      "outputs": [
        {
          "output_type": "stream",
          "text": [
            "0    0\n",
            "1    1\n",
            "2    2\n",
            "dtype: int32\n"
          ],
          "name": "stdout"
        }
      ]
    },
    {
      "cell_type": "code",
      "metadata": {
        "id": "nS7T-indP19Y",
        "colab_type": "code",
        "outputId": "978cc86a-5e99-4912-d3bd-a2e63bbf6c64",
        "colab": {
          "base_uri": "https://localhost:8080/",
          "height": 173
        }
      },
      "source": [
        "import cugraph\n",
        "\n",
        "G = cugraph.Graph()\n",
        "G.add_edge_list(cudf.Series([0, 1, 2, 2], dtype='int32'),\n",
        "                cudf.Series([1, 2, 0, 3], dtype='int32'))\n",
        "cugraph.strongly_connected_components(G)"
      ],
      "execution_count": 75,
      "outputs": [
        {
          "output_type": "execute_result",
          "data": {
            "text/html": [
              "<div>\n",
              "<style scoped>\n",
              "    .dataframe tbody tr th:only-of-type {\n",
              "        vertical-align: middle;\n",
              "    }\n",
              "\n",
              "    .dataframe tbody tr th {\n",
              "        vertical-align: top;\n",
              "    }\n",
              "\n",
              "    .dataframe thead th {\n",
              "        text-align: right;\n",
              "    }\n",
              "</style>\n",
              "<table border=\"1\" class=\"dataframe\">\n",
              "  <thead>\n",
              "    <tr style=\"text-align: right;\">\n",
              "      <th></th>\n",
              "      <th>labels</th>\n",
              "      <th>vertices</th>\n",
              "    </tr>\n",
              "  </thead>\n",
              "  <tbody>\n",
              "    <tr>\n",
              "      <th>0</th>\n",
              "      <td>0</td>\n",
              "      <td>0</td>\n",
              "    </tr>\n",
              "    <tr>\n",
              "      <th>1</th>\n",
              "      <td>0</td>\n",
              "      <td>1</td>\n",
              "    </tr>\n",
              "    <tr>\n",
              "      <th>2</th>\n",
              "      <td>0</td>\n",
              "      <td>2</td>\n",
              "    </tr>\n",
              "    <tr>\n",
              "      <th>3</th>\n",
              "      <td>3</td>\n",
              "      <td>3</td>\n",
              "    </tr>\n",
              "  </tbody>\n",
              "</table>\n",
              "</div>"
            ],
            "text/plain": [
              "   labels  vertices\n",
              "0       0         0\n",
              "1       0         1\n",
              "2       0         2\n",
              "3       3         3"
            ]
          },
          "metadata": {
            "tags": []
          },
          "execution_count": 75
        }
      ]
    },
    {
      "cell_type": "code",
      "metadata": {
        "id": "mWUXnTj7_K-v",
        "colab_type": "code",
        "colab": {
          "base_uri": "https://localhost:8080/",
          "height": 34
        },
        "outputId": "ea803c8b-6b1e-46d7-9fd2-52ee156d08f3"
      },
      "source": [
        "print(\"INSTALL SUCCESS\")"
      ],
      "execution_count": 30,
      "outputs": [
        {
          "output_type": "stream",
          "text": [
            "INSTALL SUCCESS\n"
          ],
          "name": "stdout"
        }
      ]
    },
    {
      "cell_type": "code",
      "metadata": {
        "id": "w3KBRCWOYbME",
        "colab_type": "code",
        "colab": {}
      },
      "source": [
        ""
      ],
      "execution_count": 0,
      "outputs": []
    }
  ]
}